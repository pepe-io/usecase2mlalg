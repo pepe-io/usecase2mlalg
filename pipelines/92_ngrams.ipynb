{
 "cells": [
  {
   "cell_type": "markdown",
   "metadata": {},
   "source": [
    "## n-grams\n",
    "\n",
    "this script explores the possibility of n-grams on the final data"
   ]
  },
  {
   "cell_type": "code",
   "execution_count": 1,
   "metadata": {},
   "outputs": [],
   "source": [
    "# imports\n",
    "import pandas as pd\n",
    "import re\n",
    "import unicodedata\n",
    "import nltk\n",
    "import json\n",
    "from nltk.corpus import stopwords\n",
    "import matplotlib.pyplot as plt"
   ]
  },
  {
   "cell_type": "code",
   "execution_count": 2,
   "metadata": {},
   "outputs": [],
   "source": [
    "# read data\n",
    "path = '../data/database/.temp/all.csv'\n",
    "df = pd.read_csv(path, sep=';')"
   ]
  },
  {
   "cell_type": "code",
   "execution_count": 3,
   "metadata": {},
   "outputs": [],
   "source": [
    "#nltk.download()"
   ]
  },
  {
   "cell_type": "code",
   "execution_count": 4,
   "metadata": {},
   "outputs": [],
   "source": [
    "# add appropriate words that will be ignored in the analysis\n",
    "ADDITIONAL_STOPWORDS = ['covfefe']\n",
    "\n",
    "def basic_clean(text):\n",
    "    \"\"\"\n",
    "    A simple function to clean up the data. All the words that\n",
    "    are not designated as a stop word is then lemmatized after\n",
    "    encoding and basic regex parsing are performed.\n",
    "    \"\"\"\n",
    "    wnl = nltk.stem.WordNetLemmatizer()\n",
    "    stopwords = nltk.corpus.stopwords.words('english') + ADDITIONAL_STOPWORDS\n",
    "    text = (unicodedata.normalize('NFKD', text)\n",
    "    .encode('ascii', 'ignore')\n",
    "    .decode('utf-8', 'ignore')\n",
    "    .lower())\n",
    "    words = re.sub(r'[^\\w\\s]', '', text).split()\n",
    "    return [wnl.lemmatize(word) for word in words if word not in stopwords]"
   ]
  },
  {
   "cell_type": "code",
   "execution_count": 5,
   "metadata": {},
   "outputs": [],
   "source": [
    "#df_selection = df[df['kind']=='Article']\n",
    "#words = basic_clean(''.join(str(df_selection['description'].tolist())))\n",
    "\n",
    "words = basic_clean(''.join(str(df['description'].tolist())))"
   ]
  },
  {
   "cell_type": "code",
   "execution_count": 6,
   "metadata": {},
   "outputs": [
    {
     "data": {
      "text/plain": [
       "['public',\n",
       " 'material',\n",
       " 'fall',\n",
       " '2016',\n",
       " 'offering',\n",
       " 'cs145',\n",
       " 'nan',\n",
       " 'nan',\n",
       " 'jupyter',\n",
       " 'adaptation',\n",
       " 'learn',\n",
       " 'haskell',\n",
       " 'great',\n",
       " 'good',\n",
       " 'notebook',\n",
       " 'deep',\n",
       " 'learning',\n",
       " 'tensorflow',\n",
       " '2',\n",
       " 'kera']"
      ]
     },
     "execution_count": 6,
     "metadata": {},
     "output_type": "execute_result"
    }
   ],
   "source": [
    "words[0:20]"
   ]
  },
  {
   "cell_type": "code",
   "execution_count": 7,
   "metadata": {},
   "outputs": [
    {
     "name": "stdout",
     "output_type": "stream",
     "text": [
      "{\n",
      "   \"data\": 2879,\n",
      "   \"model\": 2095,\n",
      "   \"image\": 1677,\n",
      "   \"kernel\": 1485,\n",
      "   \"competition\": 1321,\n",
      "   \"notebook\": 1299,\n",
      "   \"learning\": 1202,\n",
      "   \"using\": 1150,\n",
      "   \"feature\": 1111,\n",
      "   \"dataset\": 971\n",
      "}\n"
     ]
    },
    {
     "data": {
      "image/png": "[encoded data removed]",
      "text/plain": [
       "<Figure size 432x288 with 1 Axes>"
      ]
     },
     "metadata": {
      "needs_background": "light"
     },
     "output_type": "display_data"
    }
   ],
   "source": [
    "onegrams = (pd.Series(nltk.ngrams(words, 1)).value_counts())[:10]\n",
    "onegrams = onegrams.to_dict()\n",
    "onegrams = {' '.join(x): y for x,y in onegrams.items()}\n",
    "print(json.dumps(onegrams, indent=3))\n",
    "\n",
    "D = onegrams\n",
    "plt.barh(*zip(*D.items()))\n",
    "plt.gca().invert_yaxis()\n",
    "plt.show()\n",
    "\n",
    "plt.show()"
   ]
  },
  {
   "cell_type": "code",
   "execution_count": 8,
   "metadata": {},
   "outputs": [
    {
     "name": "stdout",
     "output_type": "stream",
     "text": [
      "{\n",
      "   \"machine learning\": 716,\n",
      "   \"data science\": 205,\n",
      "   \"jupyter notebook\": 193,\n",
      "   \"deep learning\": 172,\n",
      "   \"neural network\": 151,\n",
      "   \"test set\": 146,\n",
      "   \"feature engineering\": 128,\n",
      "   \"training data\": 128,\n",
      "   \"learning model\": 118,\n",
      "   \"data analysis\": 111\n",
      "}\n"
     ]
    },
    {
     "data": {
      "image/png": "[encoded data removed]",
      "text/plain": [
       "<Figure size 432x288 with 1 Axes>"
      ]
     },
     "metadata": {
      "needs_background": "light"
     },
     "output_type": "display_data"
    }
   ],
   "source": [
    "twograms = (pd.Series(nltk.ngrams(words, 2)).value_counts())[:10]\n",
    "twograms = twograms.to_dict()\n",
    "twograms = {' '.join(x): y for x,y in twograms.items()}\n",
    "print(json.dumps(twograms, indent=3))\n",
    "\n",
    "D = twograms\n",
    "plt.barh(*zip(*D.items()))\n",
    "plt.gca().invert_yaxis()\n",
    "plt.show()\n",
    "\n",
    "plt.show()"
   ]
  },
  {
   "cell_type": "code",
   "execution_count": 9,
   "metadata": {},
   "outputs": [
    {
     "name": "stdout",
     "output_type": "stream",
     "text": [
      "{\n",
      "   \"machine learning model\": 96,\n",
      "   \"machine learning algorithm\": 55,\n",
      "   \"exploratory data analysis\": 53,\n",
      "   \"convolutional neural network\": 45,\n",
      "   \"xa0 xa0xa0 xa0\": 38,\n",
      "   \"city los angeles\": 29,\n",
      "   \"using machine learning\": 29,\n",
      "   \"natural language processing\": 28,\n",
      "   \"machine learning project\": 28,\n",
      "   \"read machine learning\": 23\n",
      "}\n"
     ]
    },
    {
     "data": {
      "image/png": "[encoded data removed]",
      "text/plain": [
       "<Figure size 432x288 with 1 Axes>"
      ]
     },
     "metadata": {
      "needs_background": "light"
     },
     "output_type": "display_data"
    }
   ],
   "source": [
    "threegrams = (pd.Series(nltk.ngrams(words, 3)).value_counts())[:10]\n",
    "threegrams = threegrams.to_dict()\n",
    "threegrams = {' '.join(x): y for x,y in threegrams.items()}\n",
    "print(json.dumps(threegrams, indent=3))\n",
    "\n",
    "D = threegrams\n",
    "plt.barh(*zip(*D.items()))\n",
    "plt.gca().invert_yaxis()\n",
    "plt.show()\n",
    "\n",
    "plt.show()"
   ]
  }
 ],
 "metadata": {
  "kernelspec": {
   "display_name": "Python 3",
   "language": "python",
   "name": "python3"
  },
  "language_info": {
   "codemirror_mode": {
    "name": "ipython",
    "version": 3
   },
   "file_extension": ".py",
   "mimetype": "text/x-python",
   "name": "python",
   "nbconvert_exporter": "python",
   "pygments_lexer": "ipython3",
   "version": "3.7.9"
  }
 },
 "nbformat": 4,
 "nbformat_minor": 4
}
