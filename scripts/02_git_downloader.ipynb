{
 "cells": [
  {
   "cell_type": "code",
   "execution_count": 1,
   "metadata": {},
   "outputs": [],
   "source": [
    "#!/usr/bin/env python3"
   ]
  },
  {
   "cell_type": "code",
   "execution_count": 2,
   "metadata": {},
   "outputs": [],
   "source": [
    "# import librarys\n",
    "import pandas as pd\n",
    "import subprocess\n",
    "import os\n",
    "from urllib.parse import urlsplit"
   ]
  },
  {
   "cell_type": "code",
   "execution_count": 3,
   "metadata": {},
   "outputs": [],
   "source": [
    "# pathes\n",
    "csv = '../data/database/db_updated.csv'\n",
    "git_store = '../data/repositories/git/'\n",
    "others_store = '../data/repositories/others/'"
   ]
  },
  {
   "cell_type": "code",
   "execution_count": 4,
   "metadata": {},
   "outputs": [
    {
     "name": "stdout",
     "output_type": "stream",
     "text": [
      "(537, 6)\n"
     ]
    }
   ],
   "source": [
    "# read csv data\n",
    "df = pd.read_csv(csv)\n",
    "\n",
    "# print shape\n",
    "print(df.shape)"
   ]
  },
  {
   "cell_type": "code",
   "execution_count": 37,
   "metadata": {},
   "outputs": [],
   "source": [
    "# helper function to create folder create_folder\n",
    "def create_folder(path):\n",
    "    if not os.path.exists(os.path.dirname(path)):\n",
    "        try:\n",
    "            os.makedirs(os.path.dirname(path))\n",
    "            print(path + ' created')\n",
    "        except OSError as exc: # Guard against race condition\n",
    "            if exc.errno != errno.EEXIST:\n",
    "                raise\n",
    "\n",
    "# download function for git-repositories\n",
    "def git_clone(url, index):\n",
    "    # return if link is empty\n",
    "    if isinstance(url, str):\n",
    "        # base path\n",
    "        #path = git_store+str(index).zfill(4)+'_'\n",
    "\n",
    "        # split url\n",
    "        split_url = urlsplit(url)\n",
    "        \n",
    "        # url formatting\n",
    "        #split_url = split_url.netloc.replace('www.', '')\n",
    "        \n",
    "        print(url)\n",
    "        \n",
    "        # check if url is a git repository\n",
    "        if split_url.netloc == 'github.com':\n",
    "            \n",
    "            author = split_url.path.split('/', 2)[1]\n",
    "            git = split_url.path.split('/', 3)[2]\n",
    "            git = git.replace('%20', ' ')\n",
    "            \n",
    "            print(author, git)\n",
    "\n",
    "            # base path\n",
    "            #path = git_store+author+git\n",
    "            \n",
    "            # url formatting\n",
    "            url = url.replace('www.', '')\n",
    "            url = url.replace('%20', ' ')\n",
    "            url = url.split(\"blob\",1)[0]\n",
    "            url = url.split(\"tree\",1)[0]\n",
    "\n",
    "            # project path\n",
    "            name = os.path.basename(os.path.normpath(url))\n",
    "            path_project = os.path.join(git_store, author, git)\n",
    "            \n",
    "            print(path_project)\n",
    "\n",
    "            # check if folder exists\n",
    "            project_exists = os.path.isdir(path_project)\n",
    "\n",
    "            # download if folder does not exist\n",
    "            if not project_exists:\n",
    "                print('---')\n",
    "                print(path_project)\n",
    "\n",
    "                # meta path\n",
    "                path_meta = path_project + '/.meta/log_clone.txt'\n",
    "\n",
    "                # git clone\n",
    "                output = subprocess.getoutput(\"git clone {} {}\".format(url, path_project))\n",
    "                print(output)\n",
    "\n",
    "                # create meta file for output\n",
    "                create_folder(path_meta)\n",
    "                with open(path_meta, 'w') as file:\n",
    "                    file.write(output)\n",
    "                    \n",
    "    else:\n",
    "        print('empty url on row '+str(index))"
   ]
  },
  {
   "cell_type": "code",
   "execution_count": null,
   "metadata": {
    "scrolled": true
   },
   "outputs": [],
   "source": [
    "# download all git repositories\n",
    "\n",
    "for index, url in enumerate(df['Link'], start=1):\n",
    "    #print(url)\n",
    "    git_clone(url, index)"
   ]
  },
  {
   "cell_type": "code",
   "execution_count": 39,
   "metadata": {
    "scrolled": true
   },
   "outputs": [],
   "source": [
    "# list folders with missing '.git' to provide fixing\n",
    "for folder in os.listdir(git_store):\n",
    "    for subfolder in os.listdir(os.path.join(git_store, folder)):\n",
    "    #subfolder = os.listdir(os.path.join(git_store, folder))[0]\n",
    "        if not os.path.isdir(os.path.join(git_store, folder, subfolder, '.git')):\n",
    "            path = os.path.join(git_store, folder, subfolder)\n",
    "            print (path)"
   ]
  }
 ],
 "metadata": {
  "kernelspec": {
   "display_name": "Python 3",
   "language": "python",
   "name": "python3"
  },
  "language_info": {
   "codemirror_mode": {
    "name": "ipython",
    "version": 3
   },
   "file_extension": ".py",
   "mimetype": "text/x-python",
   "name": "python",
   "nbconvert_exporter": "python",
   "pygments_lexer": "ipython3",
   "version": "3.8.3"
  }
 },
 "nbformat": 4,
 "nbformat_minor": 4
}
