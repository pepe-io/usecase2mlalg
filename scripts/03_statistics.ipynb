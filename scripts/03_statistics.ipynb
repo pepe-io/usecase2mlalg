{
 "cells": [
  {
   "cell_type": "code",
   "execution_count": 1,
   "metadata": {},
   "outputs": [],
   "source": [
    "#!/usr/bin/env python3"
   ]
  },
  {
   "cell_type": "code",
   "execution_count": 2,
   "metadata": {},
   "outputs": [],
   "source": [
    "# import librarys\n",
    "import pandas as pd\n",
    "import subprocess\n",
    "import os\n",
    "from urllib.parse import urlsplit"
   ]
  },
  {
   "cell_type": "code",
   "execution_count": 3,
   "metadata": {},
   "outputs": [],
   "source": [
    "# pathes\n",
    "csv_original = '../data/database/db_01_original.csv'\n",
    "csv_updated = '../data/database/db_02_updated.csv'\n",
    "git_store = '../data/repositories/git/'"
   ]
  },
  {
   "cell_type": "code",
   "execution_count": 4,
   "metadata": {},
   "outputs": [
    {
     "name": "stdout",
     "output_type": "stream",
     "text": [
      "(537, 6)\n",
      "(537, 5)\n"
     ]
    }
   ],
   "source": [
    "# read csv data\n",
    "df_original = pd.read_csv(csv_original)\n",
    "df_update = pd.read_csv(csv_updated)\n",
    "\n",
    "# print shape\n",
    "print(df_original.shape)\n",
    "print(df_update.shape)"
   ]
  },
  {
   "cell_type": "code",
   "execution_count": 5,
   "metadata": {},
   "outputs": [
    {
     "name": "stdout",
     "output_type": "stream",
     "text": [
      "525\n"
     ]
    }
   ],
   "source": [
    "# clear empty rows\n",
    "df_update.dropna(\n",
    "    axis=0,\n",
    "    how='any',\n",
    "    thresh=None,\n",
    "    subset=None,\n",
    "    inplace=True\n",
    ")\n",
    "print(len(df_update))"
   ]
  },
  {
   "cell_type": "code",
   "execution_count": 6,
   "metadata": {},
   "outputs": [
    {
     "name": "stdout",
     "output_type": "stream",
     "text": [
      "False    463\n",
      "True      62\n",
      "Name: Link, dtype: int64\n"
     ]
    },
    {
     "data": {
      "image/png": "[encoded data removed]",
      "text/plain": [
       "<Figure size 720x720 with 1 Axes>"
      ]
     },
     "metadata": {
      "needs_background": "light"
     },
     "output_type": "display_data"
    }
   ],
   "source": [
    "# diagram function for duplicates\n",
    "def chart_duplicates():\n",
    "    n = df_update['Link'].duplicated().value_counts()\n",
    "    print(n)\n",
    "    df2=pd.DataFrame([n], index=[''])\n",
    "    #df2.index=[feature]\n",
    "    ax = df2.plot(kind='bar', stacked=True, figsize=(10,10), title='duplicates')\n",
    "    fig = ax.get_figure()\n",
    "    fig.savefig('03-01_duplicates.png')\n",
    "    \n",
    "# create diagram by industry\n",
    "#chart_feature('Link')\n",
    "\n",
    "#print(df['Link'].value_counts())\n",
    "#print(df_update['Link'].duplicated().value_counts())\n",
    "chart_duplicates()"
   ]
  },
  {
   "cell_type": "code",
   "execution_count": 7,
   "metadata": {},
   "outputs": [
    {
     "name": "stdout",
     "output_type": "stream",
     "text": [
      "               Industry  Type                       Name  \\\n",
      "0  Accommodation & Food  Food                  RobotChef   \n",
      "1  Accommodation & Food  Food             Food Amenities   \n",
      "2  Accommodation & Food  Food  Recipe Cuisine and Rating   \n",
      "3  Accommodation & Food  Food        Food Classification   \n",
      "4  Accommodation & Food  Food            Image to Recipe   \n",
      "\n",
      "                                                Link  \\\n",
      "0              https://github.com/bschreck/robo-chef   \n",
      "1  https://github.com/Ankushr785/Food-amenities-d...   \n",
      "2          https://github.com/catherhuang/FP3-recipe   \n",
      "3      https://github.com/stratospark/food-101-keras   \n",
      "4          https://github.com/Murgio/Food-Recipe-CNN   \n",
      "\n",
      "                                         Description  Duplicate  \n",
      "0            Refining recipes based on user reviews.      False  \n",
      "1  Predicting the demand for food amenities using...      False  \n",
      "2  Predict the rating and type of cuisine from a ...      False  \n",
      "3                         Classification using Keras      False  \n",
      "4  Translate an image to a recipe using deep lear...      False  \n"
     ]
    }
   ],
   "source": [
    "# add duplicates to dataframe\n",
    "duplicates = df_update['Link'].duplicated()\n",
    "df_update['Duplicate'] = duplicates\n",
    "print(df_update.head())"
   ]
  },
  {
   "cell_type": "code",
   "execution_count": 8,
   "metadata": {},
   "outputs": [
    {
     "name": "stdout",
     "output_type": "stream",
     "text": [
      "https://github.com/TiesdeKok/Python_NLP_Tutorial/blob/master/NLP_Notebook.ipynb https://github.com/TiesdeKok/Python_NLP_Tutorial/\n",
      "https://github.com/TiesdeKok/UW_Python_Camp/blob/master/Materials/Session_5/EDGAR_walkthrough.ipynb https://github.com/TiesdeKok/UW_Python_Camp/\n",
      "https://github.com/danshorstein/python4cpas/blob/master/03_parsing_pdf_files/AR%20Aging%20-%20working.ipynb https://github.com/danshorstein/python4cpas/\n",
      "https://github.com/surajmall/Agriculture-Assistant/tree/master/models https://github.com/surajmall/Agriculture-Assistant/\n",
      "https://github.com/abuchowdhury/Mortgage_Bank_Loan_Analtsics/blob/master/Mortgage%20Bank%20Loan%20Analytics.ipynb https://github.com/abuchowdhury/Mortgage_Bank_Loan_Analtsics/\n",
      "https://github.com/IBM-Cloud-DevFest-2018/Data-Science-for-Banking/blob/master/02-CreditCardApprovalModel/CreditCardApprovalModel.ipynb https://github.com/IBM-Cloud-DevFest-2018/Data-Science-for-Banking/\n",
      "https://github.com/am-aditya/Artificial-Intelligence-for-Banking/blob/master/03_ipy_notebooks/clv_prediction.ipynb https://github.com/am-aditya/Artificial-Intelligence-for-Banking/\n",
      "https://github.com/am-aditya/Artificial-Intelligence-for-Banking/blob/master/01_code/01_02_clv_survival/Survival_Analysis.py https://github.com/am-aditya/Artificial-Intelligence-for-Banking/\n",
      "https://github.com/am-aditya/Artificial-Intelligence-for-Banking/blob/master/01_code/01_02_clv_survival/Customer_NextTransaction_Prediction.py https://github.com/am-aditya/Artificial-Intelligence-for-Banking/\n",
      "https://github.com/am-aditya/Artificial-Intelligence-for-Banking/blob/master/01_code/01_02_clv_survival/Customer_NextTransaction_Prediction.py https://github.com/am-aditya/Artificial-Intelligence-for-Banking/\n",
      "https://github.com/sekhansen/mpc_minutes_demo/blob/master/information_retrieval.ipynb https://github.com/sekhansen/mpc_minutes_demo/\n",
      "https://github.com/kaumaron/Data_Science/tree/master/CEO_Compensation https://github.com/kaumaron/Data_Science/\n",
      "https://github.com/longtng/frauddetectionproject/blob/master/A%20Consideration%20Point%20of%20%20Fraud%20Detection%20in%20Bank%20Loans%20Project%20Code.ipynb/ https://github.com/longtng/frauddetectionproject/\n",
      "https://github.com/Michaels72/AML-Due-Diligence/blob/master/AML_Finance_DD.ipynb https://github.com/Michaels72/AML-Due-Diligence/\n",
      "https://github.com/am-aditya/Artificial-Intelligence-for-Banking/blob/master/03_ipy_notebooks/fraud_detection.ipynb https://github.com/am-aditya/Artificial-Intelligence-for-Banking/\n",
      "https://github.com/sharmaroshan/Insurance-Claim-Prediction/blob/master/InsuranceClaim.ipynb https://github.com/sharmaroshan/Insurance-Claim-Prediction/\n",
      "https://github.com/slegroux/claimdenial/blob/master/Claim%20Denial.ipynb https://github.com/slegroux/claimdenial/\n",
      "https://github.com/Shomona/Bank-Failure-Prediction/blob/master/Bank.ipynb https://github.com/Shomona/Bank-Failure-Prediction/\n",
      "https://github.com/SaiBiswas/Bank-Grievance-Compliance-Management/blob/master/The%20Main%20File.ipynb https://github.com/SaiBiswas/Bank-Grievance-Compliance-Management/\n",
      "https://github.com/apbecker/Systemic_Risk/blob/master/Generalized.ipynb https://github.com/apbecker/Systemic_Risk/\n",
      "https://github.com/kaitai/stress-testing-with-jupyter/blob/master/Playing%20with%20financial%20data%20and%20Python%203.ipynb https://github.com/kaitai/stress-testing-with-jupyter/\n",
      "https://github.com/arcadynovosyolov/reverse_stress_testing/blob/master/reverse_stress_testing.ipynb https://github.com/arcadynovosyolov/reverse_stress_testing/\n",
      "https://github.com/Karagul/BoE_stress_test/blob/master/BoE_stress_test_5Y_cummulative_imparment_charge.ipynb https://github.com/Karagul/BoE_stress_test/\n",
      "https://github.com/hkacmaz/Bankin_Recovery/blob/master/Banking_Recovery.ipynb https://github.com/hkacmaz/Bankin_Recovery/\n",
      "https://github.com/AlvaroMenduina/Jupyter_Notebooks/tree/master/Introduction_Aerospace_Engineering https://github.com/AlvaroMenduina/Jupyter_Notebooks/\n",
      "https://github.com/openeemeter/eemeter/blob/master/scripts/tutorial.ipynb https://github.com/openeemeter/eemeter/\n",
      "https://github.com/Mehranov/UnderstandingAndPredictingPropertyMaintenanceFines/blob/master/Assignment4_complete.ipynb https://github.com/Mehranov/UnderstandingAndPredictingPropertyMaintenanceFines/\n",
      "https://github.com/jhconning/Dev-II/tree/master/notebooks https://github.com/jhconning/Dev-II/\n",
      "https://github.com/lnsongxf/Applied_Computational_Economics_and_Finance/blob/master/Chapter05.ipynb https://github.com/lnsongxf/Applied_Computational_Economics_and_Finance/\n",
      "https://github.com/jstac/econometrics/tree/master/notebooks https://github.com/jstac/econometrics/\n",
      "https://github.com/eloyekunle/student_intervention/blob/master/student_intervention.ipynb https://github.com/eloyekunle/student_intervention/\n",
      "https://github.com/kaumaron/Data_Science/tree/master/Grade_Analysis https://github.com/kaumaron/Data_Science/\n",
      "https://github.com/datacamp/course-resources-ml-with-experts-budgets/blob/master/notebooks/1.0-full-model.ipynb https://github.com/datacamp/course-resources-ml-with-experts-budgets/\n",
      "https://github.com/nymarya/school-budgets-for-education/tree/master/notebooks https://github.com/nymarya/school-budgets-for-education/\n",
      "https://github.com/JonathanREB/Budget_SchoolsAnalysis/blob/master/PyCitySchools_starter.ipynb https://github.com/JonathanREB/Budget_SchoolsAnalysis/\n",
      "https://github.com/sushant2811/SchoolBudgetData/blob/master/SchoolBudgetData.ipynb https://github.com/sushant2811/SchoolBudgetData/\n",
      "https://github.com/kaumaron/Data_Science/tree/master/Education https://github.com/kaumaron/Data_Science/\n",
      "https://github.com/ab-bh/Disease-Outbreak-Prediction/blob/master/Disease%20Outbreak%20Prediction.ipynb https://github.com/ab-bh/Disease-Outbreak-Prediction/\n",
      "https://github.com/paultopia/concrete_NLP_tutorial/blob/master/NLP_notebook.ipynb https://github.com/paultopia/concrete_NLP_tutorial/\n",
      "https://github.com/borisbanushev/stockpredictionai/blob/master/readme2.md https://github.com/borisbanushev/stockpredictionai/\n",
      "https://github.com/MiyainNYC/Financial-Modeling/tree/master/codes https://github.com/MiyainNYC/Financial-Modeling/\n",
      "https://github.com/sarachmax/MarketCrashes_Prediction/blob/master/LPPL_Comparasion.ipynb https://github.com/sarachmax/MarketCrashes_Prediction/\n",
      "https://github.com/callysto/curriculum-notebooks/blob/master/Humanities/BubonicPlague/bubonic-plague-and-SIR-model.ipynb https://github.com/callysto/curriculum-notebooks/\n",
      "https://github.com/hockeyjudson/Legal-Entity-Detection/blob/master/Dataset_conv.ipynb https://github.com/hockeyjudson/Legal-Entity-Detection/\n",
      "https://github.com/GirrajMaheshwari/Web-scrapping-/blob/master/Google_scholar%2BExtract%2Bcase%2Bdocument.ipynb https://github.com/GirrajMaheshwari/Web-scrapping-/\n",
      "https://github.com/davidsontheath/bias_corrected_estimators/blob/master/bias_corrected_estimators.ipynb https://github.com/davidsontheath/bias_corrected_estimators/\n",
      "https://github.com/AccelAI/AI-Law-Minicourse/tree/master/Supreme_Court_Topic_Modeling https://github.com/AccelAI/AI-Law-Minicourse/\n",
      "https://github.com/mikhailklassen/Mining-the-Social-Web-3rd-Edition/tree/master/notebooks https://github.com/mikhailklassen/Mining-the-Social-Web-3rd-Edition/\n",
      "https://github.com/callysto/curriculum-notebooks/tree/master/Physics https://github.com/callysto/curriculum-notebooks/\n",
      "https://github.com/worldbank/ML-classification-algorithms-poverty/tree/master/notebooks https://github.com/worldbank/ML-classification-algorithms-poverty/\n",
      "https://github.com/Global-Witness/overseas-companies-land-ownership/blob/master/overseas_companies_land_ownership_analysis.ipynb https://github.com/Global-Witness/overseas-companies-land-ownership/\n",
      "https://github.com/MAydogdu/ConsumerFinancialProtectionBureau/blob/master/CFPB_Complaints_2017September.ipynb https://github.com/MAydogdu/ConsumerFinancialProtectionBureau/\n",
      "https://github.com/dmodjeska/barnet_transactions/blob/master/Barnet_Transactions_Analysis.ipynb https://github.com/dmodjeska/barnet_transactions/\n",
      "https://github.com/shayanray/GlassBox/tree/master/mlPredictor https://github.com/shayanray/GlassBox/\n",
      "https://github.com/abjer/sds/tree/master/material https://github.com/abjer/sds/\n",
      "https://github.com/johnfwhitesell/CensusPull/blob/master/Census_ACS5_Pull.ipynb https://github.com/johnfwhitesell/CensusPull/\n",
      "https://github.com/Akesari12/LS123_Data_Prediction_Law_Spring-2019/blob/master/labs/OLS%20for%20Causal%20Inference/OLS_Causal_Inference_solution.ipynb https://github.com/Akesari12/LS123_Data_Prediction_Law_Spring-2019/\n",
      "https://github.com/sfbrigade/datasci-campaign-finance/blob/master/notebooks/ML%20Campaign%20Finance%20and%20Election%20Results%20Example.ipynb https://github.com/sfbrigade/datasci-campaign-finance/\n",
      "https://github.com/austinbrian/portfolio/blob/master/tax_votes/president_counties.ipynb https://github.com/austinbrian/portfolio/\n",
      "https://github.com/kaumaron/Data_Science/tree/master/Congressional_Partisanship https://github.com/kaumaron/Data_Science/\n",
      "https://github.com/luqmanhakim/research-on-sp-wholesale/blob/master/research-on-sp-wholesale-plan.ipynb https://github.com/luqmanhakim/research-on-sp-wholesale/\n",
      "https://github.com/Jean-njoroge/coal-exploratory/tree/master/notebooks https://github.com/Jean-njoroge/coal-exploratory/\n",
      "https://github.com/pratishthakapoor/RetailReplenishement/tree/master/Code https://github.com/pratishthakapoor/RetailReplenishement/\n",
      "https://github.com/Jean-njoroge/coal-exploratory/tree/master/notebooks https://github.com/Jean-njoroge/coal-exploratory/\n",
      "https://github.com/pratishthakapoor/RetailReplenishement/tree/master/Code https://github.com/pratishthakapoor/RetailReplenishement/\n",
      "525\n",
      "525                Industry  Type                       Name  \\\n",
      "0  Accommodation & Food  Food                  RobotChef   \n",
      "1  Accommodation & Food  Food             Food Amenities   \n",
      "2  Accommodation & Food  Food  Recipe Cuisine and Rating   \n",
      "3  Accommodation & Food  Food        Food Classification   \n",
      "4  Accommodation & Food  Food            Image to Recipe   \n",
      "\n",
      "                                                Link  \\\n",
      "0              https://github.com/bschreck/robo-chef   \n",
      "1  https://github.com/Ankushr785/Food-amenities-d...   \n",
      "2          https://github.com/catherhuang/FP3-recipe   \n",
      "3      https://github.com/stratospark/food-101-keras   \n",
      "4          https://github.com/Murgio/Food-Recipe-CNN   \n",
      "\n",
      "                                         Description  Duplicate  \\\n",
      "0            Refining recipes based on user reviews.      False   \n",
      "1  Predicting the demand for food amenities using...      False   \n",
      "2  Predict the rating and type of cuisine from a ...      False   \n",
      "3                         Classification using Keras      False   \n",
      "4  Translate an image to a recipe using deep lear...      False   \n",
      "\n",
      "                                            Base_URL  \n",
      "0              https://github.com/bschreck/robo-chef  \n",
      "1  https://github.com/Ankushr785/Food-amenities-d...  \n",
      "2          https://github.com/catherhuang/FP3-recipe  \n",
      "3      https://github.com/stratospark/food-101-keras  \n",
      "4          https://github.com/Murgio/Food-Recipe-CNN  \n"
     ]
    }
   ],
   "source": [
    "# recreate base url for github-links (as in 02_git_downloader.ipynb)\n",
    "\n",
    "from urllib.parse import urlsplit\n",
    "\n",
    "base_url_list = []\n",
    "\n",
    "for url in df_update['Link']:\n",
    "    base_url = url\n",
    "    \n",
    "    # split url\n",
    "    split_url = urlsplit(url)\n",
    "\n",
    "    # check if url is a git repository\n",
    "    if split_url.netloc == 'github.com':\n",
    "\n",
    "        # url formatting\n",
    "        base_url = base_url.replace('www.', '')\n",
    "        base_url = base_url.replace('%20', ' ')\n",
    "        base_url = base_url.split(\"blob\",1)[0]\n",
    "        base_url = base_url.split(\"tree\",1)[0]\n",
    "        \n",
    "        if url != base_url:\n",
    "            print(url, base_url)\n",
    "            \n",
    "    base_url_list.append(base_url)\n",
    "    \n",
    "print(len(base_url_list))\n",
    "\n",
    "df_update['Base_URL'] = base_url_list\n",
    "print(len(df_update), df_update.head())"
   ]
  },
  {
   "cell_type": "code",
   "execution_count": 9,
   "metadata": {},
   "outputs": [],
   "source": [
    "# push data to csv\n",
    "csv_new = '../data/database/db_03_cleanup.csv'\n",
    "df_update.to_csv(csv_new)"
   ]
  }
 ],
 "metadata": {
  "kernelspec": {
   "display_name": "Python 3",
   "language": "python",
   "name": "python3"
  },
  "language_info": {
   "codemirror_mode": {
    "name": "ipython",
    "version": 3
   },
   "file_extension": ".py",
   "mimetype": "text/x-python",
   "name": "python",
   "nbconvert_exporter": "python",
   "pygments_lexer": "ipython3",
   "version": "3.8.5"
  }
 },
 "nbformat": 4,
 "nbformat_minor": 4
}
