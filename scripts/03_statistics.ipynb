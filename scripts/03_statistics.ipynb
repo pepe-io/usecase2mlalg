{
 "cells": [
  {
   "cell_type": "code",
   "execution_count": 1,
   "metadata": {},
   "outputs": [],
   "source": [
    "#!/usr/bin/env python3"
   ]
  },
  {
   "cell_type": "code",
   "execution_count": 2,
   "metadata": {},
   "outputs": [],
   "source": [
    "# import librarys\n",
    "import pandas as pd\n",
    "import subprocess\n",
    "import os\n",
    "from urllib.parse import urlsplit"
   ]
  },
  {
   "cell_type": "code",
   "execution_count": 5,
   "metadata": {},
   "outputs": [],
   "source": [
    "# pathes\n",
    "csv_original = '../data/database/db_as_is.csv'\n",
    "csv_updated = '../data/database/db_updated.csv'\n",
    "git_store = '../data/repositories/git/'"
   ]
  },
  {
   "cell_type": "code",
   "execution_count": 6,
   "metadata": {},
   "outputs": [
    {
     "name": "stdout",
     "output_type": "stream",
     "text": [
      "(537, 6)\n",
      "(537, 6)\n"
     ]
    }
   ],
   "source": [
    "# read csv data\n",
    "df_original = pd.read_csv(csv_original)\n",
    "df_update = pd.read_csv(csv_updated)\n",
    "\n",
    "# print shape\n",
    "print(df_original.shape)\n",
    "print(df_update.shape)"
   ]
  },
  {
   "cell_type": "code",
   "execution_count": 15,
   "metadata": {},
   "outputs": [
    {
     "name": "stdout",
     "output_type": "stream",
     "text": [
      "False    469\n",
      "True      68\n",
      "Name: Link, dtype: int64\n"
     ]
    },
    {
     "data": {
      "image/png": "[encoded data removed]",
      "text/plain": [
       "<Figure size 720x720 with 1 Axes>"
      ]
     },
     "metadata": {
      "needs_background": "light"
     },
     "output_type": "display_data"
    }
   ],
   "source": [
    "# diagram function\n",
    "def chart_duplicates():\n",
    "    n = df_update['Link'].duplicated().value_counts()\n",
    "    print(n)\n",
    "    df2=pd.DataFrame([n], index=[''])\n",
    "    #df2.index=[feature]\n",
    "    ax = df2.plot(kind='bar', stacked=True, figsize=(10,10), title='duplicates')\n",
    "    fig = ax.get_figure()\n",
    "    fig.savefig('03-01_duplicates.png')\n",
    "    \n",
    "# create diagram by industry\n",
    "#chart_feature('Link')\n",
    "\n",
    "#print(df['Link'].value_counts())\n",
    "#print(df_update['Link'].duplicated().value_counts())\n",
    "chart_duplicates()"
   ]
  }
 ],
 "metadata": {
  "kernelspec": {
   "display_name": "Python 3",
   "language": "python",
   "name": "python3"
  },
  "language_info": {
   "codemirror_mode": {
    "name": "ipython",
    "version": 3
   },
   "file_extension": ".py",
   "mimetype": "text/x-python",
   "name": "python",
   "nbconvert_exporter": "python",
   "pygments_lexer": "ipython3",
   "version": "3.8.3"
  }
 },
 "nbformat": 4,
 "nbformat_minor": 4
}
