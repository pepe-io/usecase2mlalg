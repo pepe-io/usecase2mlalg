{
 "cells": [
  {
   "cell_type": "code",
   "execution_count": 54,
   "metadata": {},
   "outputs": [],
   "source": [
    "# imports\n",
    "import pandas as pd\n",
    "import re\n",
    "import unicodedata\n",
    "import nltk\n",
    "import json\n",
    "from nltk.corpus import stopwords\n",
    "import matplotlib.pyplot as plt"
   ]
  },
  {
   "cell_type": "code",
   "execution_count": 2,
   "metadata": {},
   "outputs": [],
   "source": [
    "# read data\n",
    "path = '../data/database/.temp/all.csv'\n",
    "df = pd.read_csv(path, sep=';')"
   ]
  },
  {
   "cell_type": "code",
   "execution_count": 9,
   "metadata": {},
   "outputs": [
    {
     "name": "stdout",
     "output_type": "stream",
     "text": [
      "showing info https://raw.githubusercontent.com/nltk/nltk_data/gh-pages/index.xml\n"
     ]
    },
    {
     "data": {
      "text/plain": [
       "True"
      ]
     },
     "execution_count": 9,
     "metadata": {},
     "output_type": "execute_result"
    }
   ],
   "source": [
    "nltk.download()"
   ]
  },
  {
   "cell_type": "code",
   "execution_count": null,
   "metadata": {},
   "outputs": [],
   "source": [
    "# add appropriate words that will be ignored in the analysis\n",
    "ADDITIONAL_STOPWORDS = ['covfefe']\n",
    "\n",
    "def basic_clean(text):\n",
    "    \"\"\"\n",
    "    A simple function to clean up the data. All the words that\n",
    "    are not designated as a stop word is then lemmatized after\n",
    "    encoding and basic regex parsing are performed.\n",
    "    \"\"\"\n",
    "    wnl = nltk.stem.WordNetLemmatizer()\n",
    "    stopwords = nltk.corpus.stopwords.words('english') + ADDITIONAL_STOPWORDS\n",
    "    text = (unicodedata.normalize('NFKD', text)\n",
    "    .encode('ascii', 'ignore')\n",
    "    .decode('utf-8', 'ignore')\n",
    "    .lower())\n",
    "    words = re.sub(r'[^\\w\\s]', '', text).split()\n",
    "    return [wnl.lemmatize(word) for word in words if word not in stopwords]"
   ]
  },
  {
   "cell_type": "code",
   "execution_count": 91,
   "metadata": {},
   "outputs": [],
   "source": [
    "df_selection = df[df['kind']=='Article']\n",
    "words = basic_clean(''.join(str(df_selection['description'].tolist())))"
   ]
  },
  {
   "cell_type": "code",
   "execution_count": 92,
   "metadata": {},
   "outputs": [
    {
     "data": {
      "text/plain": [
       "['labtwin',\n",
       " 'world',\n",
       " 'first',\n",
       " 'voice',\n",
       " 'aipowered',\n",
       " 'digital',\n",
       " 'lab',\n",
       " 'assistant',\n",
       " 'working',\n",
       " 'alongside',\n",
       " 'scientist',\n",
       " 'point',\n",
       " 'experimentation',\n",
       " 'access',\n",
       " 'data',\n",
       " 'look',\n",
       " 'information',\n",
       " 'coordinate',\n",
       " 'experiment',\n",
       " 'take']"
      ]
     },
     "execution_count": 92,
     "metadata": {},
     "output_type": "execute_result"
    }
   ],
   "source": [
    "words[0:20]"
   ]
  },
  {
   "cell_type": "code",
   "execution_count": 93,
   "metadata": {},
   "outputs": [
    {
     "name": "stdout",
     "output_type": "stream",
     "text": [
      "{\n",
      "   \"image\": 57,\n",
      "   \"fashion\": 51,\n",
      "   \"model\": 47,\n",
      "   \"data\": 45,\n",
      "   \"learning\": 44,\n",
      "   \"customer\": 37,\n",
      "   \"method\": 35,\n",
      "   \"approach\": 33,\n",
      "   \"machine\": 31,\n",
      "   \"article\": 26\n",
      "}\n"
     ]
    },
    {
     "data": {
      "image/png": "[encoded data removed]",
      "text/plain": [
       "<Figure size 432x288 with 1 Axes>"
      ]
     },
     "metadata": {
      "needs_background": "light"
     },
     "output_type": "display_data"
    }
   ],
   "source": [
    "onegrams = (pd.Series(nltk.ngrams(words, 1)).value_counts())[:10]\n",
    "onegrams = onegrams.to_dict()\n",
    "onegrams = {' '.join(x): y for x,y in onegrams.items()}\n",
    "print(json.dumps(onegrams, indent=3))\n",
    "\n",
    "D = onegrams\n",
    "plt.barh(*zip(*D.items()))\n",
    "plt.gca().invert_yaxis()\n",
    "plt.show()\n",
    "\n",
    "plt.show()"
   ]
  },
  {
   "cell_type": "code",
   "execution_count": 94,
   "metadata": {},
   "outputs": [
    {
     "name": "stdout",
     "output_type": "stream",
     "text": [
      "{\n",
      "   \"machine learning\": 30,\n",
      "   \"size fit\": 10,\n",
      "   \"neural network\": 8,\n",
      "   \"fashion item\": 8,\n",
      "   \"learning algorithm\": 8,\n",
      "   \"fashion dna\": 8,\n",
      "   \"generative adversarial\": 7,\n",
      "   \"texture synthesis\": 7,\n",
      "   \"state art\": 6,\n",
      "   \"annotation projection\": 6\n",
      "}\n"
     ]
    },
    {
     "data": {
      "image/png": "[encoded data removed]",
      "text/plain": [
       "<Figure size 432x288 with 1 Axes>"
      ]
     },
     "metadata": {
      "needs_background": "light"
     },
     "output_type": "display_data"
    }
   ],
   "source": [
    "twograms = (pd.Series(nltk.ngrams(words, 2)).value_counts())[:10]\n",
    "twograms = twograms.to_dict()\n",
    "twograms = {' '.join(x): y for x,y in twograms.items()}\n",
    "print(json.dumps(twograms, indent=3))\n",
    "\n",
    "D = twograms\n",
    "plt.barh(*zip(*D.items()))\n",
    "plt.gca().invert_yaxis()\n",
    "plt.show()\n",
    "\n",
    "plt.show()"
   ]
  },
  {
   "cell_type": "code",
   "execution_count": 95,
   "metadata": {},
   "outputs": [
    {
     "name": "stdout",
     "output_type": "stream",
     "text": [
      "{\n",
      "   \"machine learning algorithm\": 8,\n",
      "   \"generative adversarial network\": 6,\n",
      "   \"us machine learning\": 5,\n",
      "   \"size fit recommendation\": 4,\n",
      "   \"machine learning model\": 4,\n",
      "   \"personalized size fit\": 3,\n",
      "   \"source language sl\": 3,\n",
      "   \"neural network architecture\": 3,\n",
      "   \"convolutional neural network\": 3,\n",
      "   \"machine learning technique\": 3\n",
      "}\n"
     ]
    },
    {
     "data": {
      "image/png": "[encoded data removed]",
      "text/plain": [
       "<Figure size 432x288 with 1 Axes>"
      ]
     },
     "metadata": {
      "needs_background": "light"
     },
     "output_type": "display_data"
    }
   ],
   "source": [
    "threegrams = (pd.Series(nltk.ngrams(words, 3)).value_counts())[:10]\n",
    "threegrams = threegrams.to_dict()\n",
    "threegrams = {' '.join(x): y for x,y in threegrams.items()}\n",
    "print(json.dumps(threegrams, indent=3))\n",
    "\n",
    "D = threegrams\n",
    "plt.barh(*zip(*D.items()))\n",
    "plt.gca().invert_yaxis()\n",
    "plt.show()\n",
    "\n",
    "plt.show()"
   ]
  }
 ],
 "metadata": {
  "kernelspec": {
   "display_name": "Python 3",
   "language": "python",
   "name": "python3"
  },
  "language_info": {
   "codemirror_mode": {
    "name": "ipython",
    "version": 3
   },
   "file_extension": ".py",
   "mimetype": "text/x-python",
   "name": "python",
   "nbconvert_exporter": "python",
   "pygments_lexer": "ipython3",
   "version": "3.7.9"
  }
 },
 "nbformat": 4,
 "nbformat_minor": 4
}
